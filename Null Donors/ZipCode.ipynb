{
 "cells": [
  {
   "cell_type": "markdown",
   "metadata": {},
   "source": [
    "# Understanding Zip Codes"
   ]
  },
  {
   "cell_type": "code",
   "execution_count": 7,
   "metadata": {},
   "outputs": [],
   "source": [
    "import pandas as pd\n",
    "import folium\n",
    "from folium.plugins import MarkerCluster\n",
    "import webbrowser"
   ]
  },
  {
   "cell_type": "code",
   "execution_count": 3,
   "metadata": {},
   "outputs": [],
   "source": [
    "# Load the data\n",
    "df = pd.read_excel('DonationsC5LA.xlsx')"
   ]
  },
  {
   "cell_type": "code",
   "execution_count": 6,
   "metadata": {},
   "outputs": [],
   "source": [
    "# Clean the 'Billing Zip/Postal Code' column and convert it to string for consistency\n",
    "df['Billing Zip/Postal Code'] = df['Billing Zip/Postal Code'].astype(str).str.strip()\n",
    "\n",
    "# Group by 'Billing Zip/Postal Code' and sum the 'Amount'\n",
    "zipcode_donations = df.groupby('Billing Zip/Postal Code')['Amount'].sum().reset_index()\n",
    "\n",
    "# Set up a base map\n",
    "m = folium.Map(location=[37.7749, -122.4194], zoom_start=10)  # Center the map at a suitable location\n",
    "\n",
    "# Create a marker cluster\n",
    "marker_cluster = MarkerCluster().add_to(m)\n",
    "\n",
    "# Add zip code donations to the map\n",
    "for idx, row in zipcode_donations.iterrows():\n",
    "    if pd.notnull(row['Billing Zip/Postal Code']) and row['Amount'] > 0:  # Only include valid zip codes\n",
    "        folium.Marker(\n",
    "            location=[37.7749, -122.4194],  # Placeholder for latitude and longitude\n",
    "            popup=f'Zip Code: {row[\"Billing Zip/Postal Code\"]}<br>Total Donations: ${row[\"Amount\"]:,.2f}',\n",
    "            icon=folium.Icon(color='blue' if row['Amount'] < 1000 else 'green' if row['Amount'] < 5000 else 'red')\n",
    "        ).add_to(marker_cluster)\n",
    "\n",
    "# Display the map\n",
    "m.save('zipcode_donations_map.html')"
   ]
  },
  {
   "cell_type": "code",
   "execution_count": 8,
   "metadata": {},
   "outputs": [
    {
     "data": {
      "text/plain": [
       "True"
      ]
     },
     "execution_count": 8,
     "metadata": {},
     "output_type": "execute_result"
    }
   ],
   "source": [
    "webbrowser.open('zipcode_donations_map.html')\n",
    "\n",
    "# check out the file! "
   ]
  },
  {
   "cell_type": "code",
   "execution_count": null,
   "metadata": {},
   "outputs": [],
   "source": []
  },
  {
   "cell_type": "markdown",
   "metadata": {},
   "source": []
  }
 ],
 "metadata": {
  "kernelspec": {
   "display_name": "Python 3",
   "language": "python",
   "name": "python3"
  },
  "language_info": {
   "codemirror_mode": {
    "name": "ipython",
    "version": 3
   },
   "file_extension": ".py",
   "mimetype": "text/x-python",
   "name": "python",
   "nbconvert_exporter": "python",
   "pygments_lexer": "ipython3",
   "version": "3.11.4"
  }
 },
 "nbformat": 4,
 "nbformat_minor": 2
}
