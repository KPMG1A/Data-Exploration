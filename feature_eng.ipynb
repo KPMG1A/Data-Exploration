{
 "cells": [
  {
   "cell_type": "code",
   "execution_count": 1,
   "metadata": {},
   "outputs": [],
   "source": [
    "import pandas as pd\n",
    "import csv\n",
    "df = pd.read_csv('combined_donor_info.csv')"
   ]
  },
  {
   "cell_type": "code",
   "execution_count": 8,
   "metadata": {},
   "outputs": [
    {
     "name": "stdout",
     "output_type": "stream",
     "text": [
      "Masked Account ID             0\n",
      "Maked Primary Campaign     1786\n",
      "Stage                         0\n",
      "Account Type                  0\n",
      "Billing Zip/Postal Code     501\n",
      "                           ... \n",
      "Labor Population           1510\n",
      "Armed Forces               1510\n",
      "Employed                   1510\n",
      "Unemployed                 1510\n",
      "Not in Labor Force         1510\n",
      "Length: 87, dtype: int64\n",
      "(6290, 87)\n",
      "0       14080.0\n",
      "1       14119.0\n",
      "2       14444.0\n",
      "3       14080.0\n",
      "4       14119.0\n",
      "         ...   \n",
      "6285        NaN\n",
      "6286        NaN\n",
      "6287    19684.0\n",
      "6288    18398.0\n",
      "6289    18305.0\n",
      "Name: Employed, Length: 6290, dtype: float64\n"
     ]
    }
   ],
   "source": [
    "missing_vals = df.isnull().sum()\n",
    "print(missing_vals)\n",
    "# if there is no info on employment, there is also probably no info on unemployment/labor force\n",
    "\n",
    "print(df.shape)\n",
    "\n",
    "print(df['Employed'])"
   ]
  },
  {
   "cell_type": "code",
   "execution_count": 9,
   "metadata": {},
   "outputs": [
    {
     "name": "stdout",
     "output_type": "stream",
     "text": [
      "['Masked Account ID', 'Maked Primary Campaign', 'Stage', 'Account Type', 'Billing Zip/Postal Code', 'Fiscal Period', 'Close Date', 'Amount', 'ZCTA', 'Year', 'Pop', 'Households', 'HH Income', 'Education Years', 'Minority %', 'Poor %', 'Poor Family %', 'Car or Van %', 'Public Transport %', 'Health Ins %', 'No Health Ins %', 'Unemployed %', 'Employed %', 'Armed Forces %', 'Not in Labor Force %', 'Under 10 %', 'Under 35 %', 'Over 65 %', 'Over 85 %', 'High school %', 'College %', '0-50k %', '50-100k %', '100-150k %', '150-200k %', '200k+ %', 'Minority', 'Under 10', 'Under 35', 'Over 65', 'Over 85', 'Male 10-14', 'Male 15-17', 'Male 18-19', 'Male 20', 'Male 21', 'Male 22-24', 'Male 25-29', 'Male 30-34', 'Female 10-14', 'Female 15-17', 'Female 18-19', 'Female 20', 'Female 21', 'Female 22-24', 'Female 25-29', 'Female 30-34', 'Ed Pop', 'Less than High School', 'High school', 'GED', 'Some college to Associates Degree', \"Bachelor's Degree or Higher\", '$0-25k', '$25-50k', '$50-75k', '$75-100k', '$100-125k', '$125-150k', '$150-200k', '$200k+', 'Poverty Pop', 'Poor', 'Poor Family', 'Transport Pop', 'Car or Van', 'Carpool', 'Public Transport', 'Worked from Home', 'Health Ins Pop', 'Health Ins', 'No Health Ins', 'Labor Population', 'Armed Forces', 'Employed', 'Unemployed', 'Not in Labor Force']\n"
     ]
    }
   ],
   "source": [
    "cols = df.columns.tolist()\n",
    "print(cols)"
   ]
  },
  {
   "cell_type": "code",
   "execution_count": 12,
   "metadata": {},
   "outputs": [
    {
     "name": "stdout",
     "output_type": "stream",
     "text": [
      "      Masked Account ID Maked Primary Campaign             Stage Account Type  \\\n",
      "0                     1      Campaign Two 2018        Closed Won    Household   \n",
      "1                     2      Campaign One 2014        Closed Won    Household   \n",
      "2                     3      Campaign One 2014        Closed Won    Household   \n",
      "3                     4      Campaign One 2014        Closed Won    Household   \n",
      "4                     5                   None        Closed Won    Household   \n",
      "...                 ...                    ...               ...          ...   \n",
      "1316               1317      Campaign One 2015  In-Kind Received    Household   \n",
      "1317               1318      Campaign One 2015  In-Kind Received    Corporate   \n",
      "1318               1319      Campaign One 2015        Closed Won    Corporate   \n",
      "1319               1320      Campaign One 2014        Closed Won    Household   \n",
      "1320               1321      Campaign Two 2023        Closed Won    Household   \n",
      "\n",
      "     Billing Zip/Postal Code Fiscal Period Close Date   Amount     ZCTA  \\\n",
      "0                      90069       Q1-2018 2018-02-16  25000.0  90069.0   \n",
      "1                      90272       Q3-2014 2014-08-27   5000.0  90272.0   \n",
      "2                      90024       Q4-2014 2014-10-29    435.0  90024.0   \n",
      "3                      90049       Q1-2014 2014-03-26   5000.0  90049.0   \n",
      "4                       None       Q1-2021 2021-03-10   5000.0      NaN   \n",
      "...                      ...           ...        ...      ...      ...   \n",
      "1316                    None       Q4-2015 2015-10-27     75.0      NaN   \n",
      "1317                    None       Q4-2015 2015-10-27   1365.0      NaN   \n",
      "1318                   91723       Q4-2015 2015-10-01    600.0  91723.0   \n",
      "1319                    None       Q4-2014 2014-10-10    300.0      NaN   \n",
      "1320                   60068       Q3-2023 2023-08-07    500.0  60068.0   \n",
      "\n",
      "        Year  ...  Health Ins Pop  Health Ins  No Health Ins  \\\n",
      "0     2019.0  ...         20230.0     19348.0          882.0   \n",
      "1     2021.0  ...         21282.0     21103.0          179.0   \n",
      "2     2021.0  ...         50575.0     49030.0         1545.0   \n",
      "3     2019.0  ...         36380.0     35689.0          691.0   \n",
      "4        NaN  ...             NaN         NaN            NaN   \n",
      "...      ...  ...             ...         ...            ...   \n",
      "1316     NaN  ...             NaN         NaN            NaN   \n",
      "1317     NaN  ...             NaN         NaN            NaN   \n",
      "1318  2019.0  ...         18245.0     16637.0         1608.0   \n",
      "1319     NaN  ...             NaN         NaN            NaN   \n",
      "1320  2021.0  ...         39109.0     37940.0         1169.0   \n",
      "\n",
      "      Labor Population Armed Forces Employed Unemployed Not in Labor Force  \\\n",
      "0              19254.0          0.0  14444.0      738.0             4072.0   \n",
      "1              16215.0          0.0   9183.0      343.0             6689.0   \n",
      "2              47691.0         36.0  20641.0     2401.0            24613.0   \n",
      "3              30689.0         38.0  19840.0      944.0             9867.0   \n",
      "4                  NaN          NaN      NaN        NaN                NaN   \n",
      "...                ...          ...      ...        ...                ...   \n",
      "1316               NaN          NaN      NaN        NaN                NaN   \n",
      "1317               NaN          NaN      NaN        NaN                NaN   \n",
      "1318           14704.0          0.0   9472.0      533.0             4699.0   \n",
      "1319               NaN          NaN      NaN        NaN                NaN   \n",
      "1320           31194.0          0.0  19684.0      700.0            10810.0   \n",
      "\n",
      "     Num Donations Repeat Donor  \n",
      "0               51         True  \n",
      "1               30         True  \n",
      "2               36         True  \n",
      "3               72         True  \n",
      "4                1        False  \n",
      "...            ...          ...  \n",
      "1316             1        False  \n",
      "1317             1        False  \n",
      "1318             3         True  \n",
      "1319             1        False  \n",
      "1320             3         True  \n",
      "\n",
      "[1321 rows x 89 columns]\n"
     ]
    }
   ],
   "source": [
    "# view dates in csv as datetime objects to compare\n",
    "df['Close Date'] = pd.to_datetime(df['Close Date'], format='%m/%d/%Y')\n",
    "new_df = df.sort_values('Close Date').groupby('Masked Account ID', as_index=False).first()\n",
    "donation_counts = df.groupby('Masked Account ID').size().reset_index(name='Num Donations')\n",
    "new_df = pd.merge(new_df, donation_counts, on='Masked Account ID')\n",
    "new_df['Repeat Donor'] = new_df['Num Donations'] > 1 # boolean value for whether donor is repeat donor\n",
    "# down the road, we can choose between having Num Donations OR Repeat Donor as label\n",
    "\n",
    "print(new_df)\n",
    "\n",
    "# essentially, we now have data based on the individual, and can see how many times each donor donated\n",
    "new_df.to_csv('whether_donor_repeats_donation.csv', index=False)\n",
    "\n"
   ]
  },
  {
   "cell_type": "code",
   "execution_count": 22,
   "metadata": {},
   "outputs": [
    {
     "name": "stdout",
     "output_type": "stream",
     "text": [
      "Masked Account ID    -0.250265\n",
      "Close Date           -0.147528\n",
      "Amount                0.078787\n",
      "ZCTA                  0.009144\n",
      "Year                 -0.061064\n",
      "                        ...   \n",
      "Employed              0.095271\n",
      "Unemployed            0.075647\n",
      "Not in Labor Force    0.094419\n",
      "Num Donations         0.320464\n",
      "Repeat Donor          1.000000\n",
      "Name: Repeat Donor, Length: 62, dtype: float64\n",
      "High correlations:\n",
      "Masked Account ID                   -0.250265\n",
      "Close Date                          -0.147528\n",
      "Households                           0.104016\n",
      "HH Income                            0.240272\n",
      "Education Years                      0.387475\n",
      "Over 65                              0.117201\n",
      "Over 85                              0.104154\n",
      "Ed Pop                               0.102008\n",
      "Some college to Associates Degree    0.106064\n",
      "Poverty Pop                          0.104016\n",
      "Health Ins                           0.103581\n",
      "Num Donations                        0.320464\n",
      "Repeat Donor                         1.000000\n",
      "Name: Repeat Donor, dtype: float64\n"
     ]
    }
   ],
   "source": [
    "new_df = new_df.select_dtypes(exclude=['object']) # string columns like Campaign type are not going to be overly helpful\n",
    "new_df['Repeat Donor'] = new_df['Repeat Donor'].astype(int)\n",
    "\n",
    "corr_matrix = new_df.corr()\n",
    "repeat_donor_correlation = corr_matrix['Repeat Donor']\n",
    "print(repeat_donor_correlation)\n",
    "\n",
    "high_correlation = repeat_donor_correlation[(repeat_donor_correlation > 0.1) | (repeat_donor_correlation < -0.1)]\n",
    "print(\"High correlations:\")\n",
    "print(high_correlation)\n",
    "\n",
    "# features with high correlation with 'Repeat Donor' label: ['Close Date', 'Households', 'HH Income', 'Education Years', 'Over 65', 'Over 85',\n",
    "#'Ed Pop', 'Some college to Associates Degree', 'Poverty Pop', 'Health Ins']"
   ]
  },
  {
   "cell_type": "code",
   "execution_count": 23,
   "metadata": {},
   "outputs": [
    {
     "name": "stdout",
     "output_type": "stream",
     "text": [
      "Masked Account ID    -0.257296\n",
      "Close Date           -0.180480\n",
      "Amount                0.179682\n",
      "ZCTA                  0.020222\n",
      "Year                 -0.037523\n",
      "                        ...   \n",
      "Employed             -0.039901\n",
      "Unemployed           -0.064922\n",
      "Not in Labor Force   -0.040596\n",
      "Num Donations         1.000000\n",
      "Repeat Donor          0.320464\n",
      "Name: Num Donations, Length: 62, dtype: float64\n",
      "High correlations:\n",
      "Masked Account ID   -0.257296\n",
      "Close Date          -0.180480\n",
      "Amount               0.179682\n",
      "Num Donations        1.000000\n",
      "Repeat Donor         0.320464\n",
      "Name: Num Donations, dtype: float64\n"
     ]
    }
   ],
   "source": [
    "# rinse and repeat for Num Donations label\n",
    "corr_matrix = new_df.corr()\n",
    "repeat_donor_correlation = corr_matrix['Num Donations']\n",
    "print(repeat_donor_correlation)\n",
    "\n",
    "high_correlation = repeat_donor_correlation[(repeat_donor_correlation > 0.1) | (repeat_donor_correlation < -0.1)]\n",
    "print(\"High correlations:\")\n",
    "print(high_correlation)\n",
    "\n",
    "# results from this don't seem as promising lol, but features with high correlation with 'Num Donations':\n",
    "# ['Close Date', 'Amount']"
   ]
  },
  {
   "cell_type": "code",
   "execution_count": 24,
   "metadata": {},
   "outputs": [],
   "source": [
    "# i have (unofficially) made the decision to move forward with 'Repeat Donor' as the label\n",
    "\n",
    "# dropping all columns that are not (or the label): ['Close Date', 'Households', 'HH Income', 'Education Years', 'Over 65', 'Over 85',\n",
    "#'Ed Pop', 'Some college to Associates Degree', 'Poverty Pop', 'Health Ins']\n",
    "\n",
    "columns_to_keep = [\n",
    "    'Close Date', \n",
    "    'Households', \n",
    "    'HH Income', \n",
    "    'Education Years', \n",
    "    'Over 65', \n",
    "    'Over 85', \n",
    "    'Ed Pop', \n",
    "    'Some college to Associates Degree', \n",
    "    'Poverty Pop', \n",
    "    'Health Ins', \n",
    "    'Repeat Donor'\n",
    "]\n",
    "\n",
    "filt_df = new_df.loc[:, columns_to_keep]\n",
    "\n",
    "# some issues: um actually the demographics information was provided as raw data and we should find the percentage of people over 65/85 for ex\n",
    "# in case it's just a very big county but uh i am tired so i won't do that"
   ]
  },
  {
   "cell_type": "code",
   "execution_count": 25,
   "metadata": {},
   "outputs": [
    {
     "name": "stdout",
     "output_type": "stream",
     "text": [
      "591\n"
     ]
    }
   ],
   "source": [
    "print(filt_df.dropna().shape[0]) # num rows with no missing vals (591 lol) (not bad considering we started with 1000)"
   ]
  },
  {
   "cell_type": "code",
   "execution_count": 27,
   "metadata": {},
   "outputs": [
    {
     "name": "stdout",
     "output_type": "stream",
     "text": [
      "1321\n"
     ]
    }
   ],
   "source": [
    "filt_df = filt_df.apply(lambda col: col.fillna(col.mean()), axis=0)\n",
    "filt_df.to_csv('filt_repeat_donor.csv', index=False)\n",
    "print(filt_df.dropna().shape[0]) # all fixed!"
   ]
  }
 ],
 "metadata": {
  "kernelspec": {
   "display_name": "jupyterexperiments",
   "language": "python",
   "name": "python3"
  },
  "language_info": {
   "codemirror_mode": {
    "name": "ipython",
    "version": 3
   },
   "file_extension": ".py",
   "mimetype": "text/x-python",
   "name": "python",
   "nbconvert_exporter": "python",
   "pygments_lexer": "ipython3",
   "version": "3.12.6"
  }
 },
 "nbformat": 4,
 "nbformat_minor": 2
}
