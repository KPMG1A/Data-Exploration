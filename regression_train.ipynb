{
 "cells": [
  {
   "cell_type": "code",
   "execution_count": 2,
   "metadata": {},
   "outputs": [],
   "source": [
    "import pandas as pd\n",
    "import numpy as np\n",
    "import os \n",
    "import matplotlib.pyplot as plt\n",
    "import seaborn as sns"
   ]
  },
  {
   "cell_type": "code",
   "execution_count": 4,
   "metadata": {},
   "outputs": [
    {
     "data": {
      "text/html": [
       "<div>\n",
       "<style scoped>\n",
       "    .dataframe tbody tr th:only-of-type {\n",
       "        vertical-align: middle;\n",
       "    }\n",
       "\n",
       "    .dataframe tbody tr th {\n",
       "        vertical-align: top;\n",
       "    }\n",
       "\n",
       "    .dataframe thead th {\n",
       "        text-align: right;\n",
       "    }\n",
       "</style>\n",
       "<table border=\"1\" class=\"dataframe\">\n",
       "  <thead>\n",
       "    <tr style=\"text-align: right;\">\n",
       "      <th></th>\n",
       "      <th>Close Date</th>\n",
       "      <th>Households</th>\n",
       "      <th>HH Income</th>\n",
       "      <th>Education Years</th>\n",
       "      <th>Over 65</th>\n",
       "      <th>Over 85</th>\n",
       "      <th>Ed Pop</th>\n",
       "      <th>Some college to Associates Degree</th>\n",
       "      <th>Poverty Pop</th>\n",
       "      <th>Health Ins</th>\n",
       "      <th>Repeat Donor</th>\n",
       "    </tr>\n",
       "  </thead>\n",
       "  <tbody>\n",
       "    <tr>\n",
       "      <th>0</th>\n",
       "      <td>2018-02-16</td>\n",
       "      <td>12488.000000</td>\n",
       "      <td>104.556174</td>\n",
       "      <td>15.517890</td>\n",
       "      <td>3360.000000</td>\n",
       "      <td>340.000000</td>\n",
       "      <td>18195.000000</td>\n",
       "      <td>15895.000000</td>\n",
       "      <td>12488.000000</td>\n",
       "      <td>19348.000000</td>\n",
       "      <td>1</td>\n",
       "    </tr>\n",
       "    <tr>\n",
       "      <th>1</th>\n",
       "      <td>2014-08-27</td>\n",
       "      <td>8074.000000</td>\n",
       "      <td>147.580815</td>\n",
       "      <td>16.275088</td>\n",
       "      <td>4843.000000</td>\n",
       "      <td>760.000000</td>\n",
       "      <td>14748.000000</td>\n",
       "      <td>13790.000000</td>\n",
       "      <td>8074.000000</td>\n",
       "      <td>21103.000000</td>\n",
       "      <td>1</td>\n",
       "    </tr>\n",
       "    <tr>\n",
       "      <th>2</th>\n",
       "      <td>2014-10-29</td>\n",
       "      <td>16359.000000</td>\n",
       "      <td>90.520967</td>\n",
       "      <td>15.813718</td>\n",
       "      <td>6598.000000</td>\n",
       "      <td>1580.000000</td>\n",
       "      <td>22160.000000</td>\n",
       "      <td>19230.000000</td>\n",
       "      <td>16359.000000</td>\n",
       "      <td>49030.000000</td>\n",
       "      <td>1</td>\n",
       "    </tr>\n",
       "    <tr>\n",
       "      <th>3</th>\n",
       "      <td>2014-03-26</td>\n",
       "      <td>16720.000000</td>\n",
       "      <td>127.067584</td>\n",
       "      <td>16.221008</td>\n",
       "      <td>7372.000000</td>\n",
       "      <td>1296.000000</td>\n",
       "      <td>27447.000000</td>\n",
       "      <td>25491.000000</td>\n",
       "      <td>16720.000000</td>\n",
       "      <td>35689.000000</td>\n",
       "      <td>1</td>\n",
       "    </tr>\n",
       "    <tr>\n",
       "      <th>4</th>\n",
       "      <td>2021-03-10</td>\n",
       "      <td>12336.250423</td>\n",
       "      <td>108.945247</td>\n",
       "      <td>14.743985</td>\n",
       "      <td>4829.377327</td>\n",
       "      <td>737.414552</td>\n",
       "      <td>21945.213198</td>\n",
       "      <td>17152.392555</td>\n",
       "      <td>12336.250423</td>\n",
       "      <td>28062.632826</td>\n",
       "      <td>0</td>\n",
       "    </tr>\n",
       "  </tbody>\n",
       "</table>\n",
       "</div>"
      ],
      "text/plain": [
       "   Close Date    Households   HH Income  Education Years      Over 65  \\\n",
       "0  2018-02-16  12488.000000  104.556174        15.517890  3360.000000   \n",
       "1  2014-08-27   8074.000000  147.580815        16.275088  4843.000000   \n",
       "2  2014-10-29  16359.000000   90.520967        15.813718  6598.000000   \n",
       "3  2014-03-26  16720.000000  127.067584        16.221008  7372.000000   \n",
       "4  2021-03-10  12336.250423  108.945247        14.743985  4829.377327   \n",
       "\n",
       "       Over 85        Ed Pop  Some college to Associates Degree   Poverty Pop  \\\n",
       "0   340.000000  18195.000000                       15895.000000  12488.000000   \n",
       "1   760.000000  14748.000000                       13790.000000   8074.000000   \n",
       "2  1580.000000  22160.000000                       19230.000000  16359.000000   \n",
       "3  1296.000000  27447.000000                       25491.000000  16720.000000   \n",
       "4   737.414552  21945.213198                       17152.392555  12336.250423   \n",
       "\n",
       "     Health Ins  Repeat Donor  \n",
       "0  19348.000000             1  \n",
       "1  21103.000000             1  \n",
       "2  49030.000000             1  \n",
       "3  35689.000000             1  \n",
       "4  28062.632826             0  "
      ]
     },
     "execution_count": 4,
     "metadata": {},
     "output_type": "execute_result"
    }
   ],
   "source": [
    "df = pd.read_csv(\"filt_repeat_donor.csv\", header=0)\n",
    "\n",
    "df.head()"
   ]
  },
  {
   "cell_type": "code",
   "execution_count": 10,
   "metadata": {},
   "outputs": [],
   "source": [
    "from sklearn.model_selection import train_test_split, GridSearchCV\n",
    "from sklearn.linear_model import LogisticRegression\n",
    "from sklearn.metrics import accuracy_score, confusion_matrix, precision_recall_curve\n",
    "from sklearn.svm import l1_min_c"
   ]
  },
  {
   "cell_type": "code",
   "execution_count": 16,
   "metadata": {},
   "outputs": [
    {
     "data": {
      "text/html": [
       "<div>\n",
       "<style scoped>\n",
       "    .dataframe tbody tr th:only-of-type {\n",
       "        vertical-align: middle;\n",
       "    }\n",
       "\n",
       "    .dataframe tbody tr th {\n",
       "        vertical-align: top;\n",
       "    }\n",
       "\n",
       "    .dataframe thead th {\n",
       "        text-align: right;\n",
       "    }\n",
       "</style>\n",
       "<table border=\"1\" class=\"dataframe\">\n",
       "  <thead>\n",
       "    <tr style=\"text-align: right;\">\n",
       "      <th></th>\n",
       "      <th>Households</th>\n",
       "      <th>HH Income</th>\n",
       "      <th>Education Years</th>\n",
       "      <th>Over 65</th>\n",
       "      <th>Over 85</th>\n",
       "      <th>Ed Pop</th>\n",
       "      <th>Some college to Associates Degree</th>\n",
       "      <th>Poverty Pop</th>\n",
       "      <th>Health Ins</th>\n",
       "    </tr>\n",
       "  </thead>\n",
       "  <tbody>\n",
       "    <tr>\n",
       "      <th>997</th>\n",
       "      <td>15993.000000</td>\n",
       "      <td>61.915369</td>\n",
       "      <td>12.204688</td>\n",
       "      <td>4610.000000</td>\n",
       "      <td>827.000000</td>\n",
       "      <td>27090.000000</td>\n",
       "      <td>13798.000000</td>\n",
       "      <td>15993.000000</td>\n",
       "      <td>28884.000000</td>\n",
       "    </tr>\n",
       "    <tr>\n",
       "      <th>737</th>\n",
       "      <td>12336.250423</td>\n",
       "      <td>108.945247</td>\n",
       "      <td>14.743985</td>\n",
       "      <td>4829.377327</td>\n",
       "      <td>737.414552</td>\n",
       "      <td>21945.213198</td>\n",
       "      <td>17152.392555</td>\n",
       "      <td>12336.250423</td>\n",
       "      <td>28062.632826</td>\n",
       "    </tr>\n",
       "    <tr>\n",
       "      <th>727</th>\n",
       "      <td>12336.250423</td>\n",
       "      <td>108.945247</td>\n",
       "      <td>14.743985</td>\n",
       "      <td>4829.377327</td>\n",
       "      <td>737.414552</td>\n",
       "      <td>21945.213198</td>\n",
       "      <td>17152.392555</td>\n",
       "      <td>12336.250423</td>\n",
       "      <td>28062.632826</td>\n",
       "    </tr>\n",
       "    <tr>\n",
       "      <th>784</th>\n",
       "      <td>5018.000000</td>\n",
       "      <td>134.065863</td>\n",
       "      <td>15.445594</td>\n",
       "      <td>2098.000000</td>\n",
       "      <td>328.000000</td>\n",
       "      <td>9181.000000</td>\n",
       "      <td>8361.000000</td>\n",
       "      <td>5018.000000</td>\n",
       "      <td>13278.000000</td>\n",
       "    </tr>\n",
       "    <tr>\n",
       "      <th>975</th>\n",
       "      <td>12946.000000</td>\n",
       "      <td>91.819481</td>\n",
       "      <td>14.403388</td>\n",
       "      <td>12638.000000</td>\n",
       "      <td>2035.000000</td>\n",
       "      <td>22140.000000</td>\n",
       "      <td>17348.000000</td>\n",
       "      <td>12946.000000</td>\n",
       "      <td>25159.000000</td>\n",
       "    </tr>\n",
       "  </tbody>\n",
       "</table>\n",
       "</div>"
      ],
      "text/plain": [
       "       Households   HH Income  Education Years       Over 65      Over 85  \\\n",
       "997  15993.000000   61.915369        12.204688   4610.000000   827.000000   \n",
       "737  12336.250423  108.945247        14.743985   4829.377327   737.414552   \n",
       "727  12336.250423  108.945247        14.743985   4829.377327   737.414552   \n",
       "784   5018.000000  134.065863        15.445594   2098.000000   328.000000   \n",
       "975  12946.000000   91.819481        14.403388  12638.000000  2035.000000   \n",
       "\n",
       "           Ed Pop  Some college to Associates Degree   Poverty Pop  \\\n",
       "997  27090.000000                       13798.000000  15993.000000   \n",
       "737  21945.213198                       17152.392555  12336.250423   \n",
       "727  21945.213198                       17152.392555  12336.250423   \n",
       "784   9181.000000                        8361.000000   5018.000000   \n",
       "975  22140.000000                       17348.000000  12946.000000   \n",
       "\n",
       "       Health Ins  \n",
       "997  28884.000000  \n",
       "737  28062.632826  \n",
       "727  28062.632826  \n",
       "784  13278.000000  \n",
       "975  25159.000000  "
      ]
     },
     "execution_count": 16,
     "metadata": {},
     "output_type": "execute_result"
    }
   ],
   "source": [
    "y = df['Repeat Donor']\n",
    "\n",
    "\n",
    "features_list = ['Households', 'HH Income', 'Education Years', 'Over 65', 'Over 85', 'Ed Pop', 'Some college to Associates Degree', 'Poverty Pop', 'Health Ins']\n",
    "X = df[features_list]\n",
    "X_train, X_test, y_train, y_test = train_test_split(X, y, test_size = 0.1)\n",
    "\n",
    "# peek at training data\n",
    "X_train.head()"
   ]
  },
  {
   "cell_type": "code",
   "execution_count": 17,
   "metadata": {},
   "outputs": [
    {
     "name": "stdout",
     "output_type": "stream",
     "text": [
      "133\n"
     ]
    }
   ],
   "source": [
    "model = LogisticRegression(max_iter=1000)\n",
    "model.fit(X_train, y_train)\n",
    "\n",
    "prob_pred = model.predict_proba(X_test)\n",
    "prob_pred_list = []\n",
    "for i in prob_pred:\n",
    "    prob_pred_list.append(i[1])\n",
    "print(len(prob_pred_list))\n",
    "\n",
    "class_label_preds = model.predict(X_test)"
   ]
  },
  {
   "cell_type": "code",
   "execution_count": 18,
   "metadata": {},
   "outputs": [
    {
     "name": "stdout",
     "output_type": "stream",
     "text": [
      "{'C': [np.float64(2.3293130496290526e-07), np.float64(6.821730002106758e-07), np.float64(1.997842249201086e-06), np.float64(5.850969844101417e-06), np.float64(1.713541103171379e-05), np.float64(5.0183528380647914e-05), np.float64(0.0001469697176257007), np.float64(0.0004304220646890143), np.float64(0.001260553240246254), np.float64(0.0036917123954679225), np.float64(0.010811713441146746), np.float64(0.031663665803700045), np.float64(0.09273162275211592), np.float64(0.27157796294186226), np.float64(0.7953553250416792), np.float64(2.3293130496290524)]}\n"
     ]
    }
   ],
   "source": [
    "# Create confusion matrix to evaluate model\n",
    "conf_matrix = confusion_matrix(y_test, class_label_preds, labels=[True, False])\n",
    "\n",
    "pd.DataFrame(conf_matrix, columns=['Predicted: Instantly bookable', 'Predicted: Not instantly bookable'], index=['Actual: Instantly bookable', 'Actual: Not instantly bookable'])\n",
    "\n",
    "# Set up param grid\n",
    "cs = l1_min_c(X_train, y_train, loss='log') * np.logspace(0, 7, 16)\n",
    "param_grid = dict(C=list(cs))\n",
    "print(param_grid)"
   ]
  },
  {
   "cell_type": "code",
   "execution_count": 19,
   "metadata": {},
   "outputs": [
    {
     "name": "stdout",
     "output_type": "stream",
     "text": [
      "2.3293130496290526e-07\n"
     ]
    }
   ],
   "source": [
    "# Set up actual model with grid search + k-fold cross validation\n",
    "model = LogisticRegression(max_iter=1000)\n",
    "grid = GridSearchCV(model, param_grid, cv=5)\n",
    "grid_search = grid.fit(X_train, y_train)\n",
    "\n",
    "# Find best value of c\n",
    "best_c = grid_search.best_params_['C']\n",
    "print(best_c)"
   ]
  },
  {
   "cell_type": "code",
   "execution_count": 20,
   "metadata": {},
   "outputs": [],
   "source": [
    "# Use optimal value of c for model for actual training + predictions\n",
    "model = LogisticRegression(C=best_c, max_iter=1000)\n",
    "model.fit(X_train, y_train)\n",
    "\n",
    "proba_preds = model.predict_proba(X_test)\n",
    "proba_preds_list = []\n",
    "for i in proba_preds:\n",
    "    proba_preds_list.append(i[1])\n",
    "class_label_preds_best = model.predict(X_test)"
   ]
  },
  {
   "cell_type": "code",
   "execution_count": 21,
   "metadata": {},
   "outputs": [
    {
     "data": {
      "text/plain": [
       "<Axes: >"
      ]
     },
     "execution_count": 21,
     "metadata": {},
     "output_type": "execute_result"
    },
    {
     "data": {
      "image/png": "[encoded data removed]",
      "text/plain": [
       "<Figure size 640x480 with 1 Axes>"
      ]
     },
     "metadata": {},
     "output_type": "display_data"
    }
   ],
   "source": [
    "# Analyze results\n",
    "conf_matrix = confusion_matrix(y_test, class_label_preds_best, labels=[True, False])\n",
    "pd.DataFrame(conf_matrix, columns=['Predicted: Instantly bookable', 'Predicted: Not instantly bookable'], index=['Actual: Instantly bookable', 'Actual: Not instantly bookable'])\n",
    "\n",
    "# plot curves\n",
    "precision_default, recall_default, thresholds_default = precision_recall_curve(y_test, prob_pred_list)\n",
    "precision_best, recall_best, thresholds_best = precision_recall_curve(y_test, proba_preds_list)\n",
    "fig = plt.figure()\n",
    "ax = fig.add_subplot(111)\n",
    "sns.lineplot(x=recall_default, y=precision_default, color='r')\n",
    "sns.lineplot(x=recall_best, y=precision_best, color='g')"
   ]
  },
  {
   "cell_type": "code",
   "execution_count": null,
   "metadata": {},
   "outputs": [
    {
     "name": "stdout",
     "output_type": "stream",
     "text": [
      "0.5714285714285714\n",
      "0.5639097744360902\n"
     ]
    }
   ],
   "source": [
    "# Overall accuracy\n",
    "best_acc = accuracy_score(y_test, class_label_preds_best)\n",
    "print(best_acc)\n",
    "\n",
    "og_acc = accuracy = accuracy_score(y_test, class_label_preds)\n",
    "print(og_acc)\n",
    "# Improved a bit :)"
   ]
  }
 ],
 "metadata": {
  "kernelspec": {
   "display_name": "jupyterexperiments",
   "language": "python",
   "name": "python3"
  },
  "language_info": {
   "codemirror_mode": {
    "name": "ipython",
    "version": 3
   },
   "file_extension": ".py",
   "mimetype": "text/x-python",
   "name": "python",
   "nbconvert_exporter": "python",
   "pygments_lexer": "ipython3",
   "version": "3.12.6"
  }
 },
 "nbformat": 4,
 "nbformat_minor": 2
}
