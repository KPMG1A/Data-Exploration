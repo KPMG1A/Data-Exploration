{
 "cells": [
  {
   "cell_type": "code",
   "execution_count": 1,
   "metadata": {},
   "outputs": [
    {
     "name": "stdout",
     "output_type": "stream",
     "text": [
      "   Masked Account ID Maked Primary Campaign       Stage Account Type  \\\n",
      "0                  1                    NaN  Closed Won    Household   \n",
      "1                  1                    NaN  Closed Won    Household   \n",
      "2                  1                    NaN  Closed Won    Household   \n",
      "3                  1                    NaN  Closed Won    Household   \n",
      "4                  1                    NaN  Closed Won    Household   \n",
      "\n",
      "  Billing Zip/Postal Code Fiscal Period Close Date      Amount  \n",
      "0                   90069       Q3-2022   7/5/2022   200000.00  \n",
      "1                   90069       Q3-2023  7/14/2023   200000.00  \n",
      "2                   90069       Q3-2019  7/17/2019  5000028.69  \n",
      "3                   90069       Q1-2019  3/12/2019   320000.00  \n",
      "4                   90069       Q2-2020  4/27/2020   220000.00  \n"
     ]
    }
   ],
   "source": [
    "import pandas as pd\n",
    "df = pd.read_excel('DonationsC5LA.xlsx')\n",
    "print(df.head())"
   ]
  },
  {
   "cell_type": "code",
   "execution_count": 3,
   "metadata": {},
   "outputs": [
    {
     "name": "stdout",
     "output_type": "stream",
     "text": [
      "Amount                                      1.000000\n",
      "Fiscal Period_Q3-2019                       0.069102\n",
      "Stage_Commitment                            0.038790\n",
      "Fiscal Period_Q2-2020                       0.022650\n",
      "Fiscal Period_Q2-2021                       0.022189\n",
      "Close Year                                  0.019983\n",
      "Fiscal Period_Q1-2019                       0.011985\n",
      "Fiscal Period_Q2-2019                       0.008016\n",
      "Fiscal Period_Q3-2023                       0.004966\n",
      "Fiscal Period_Q1-2018                       0.004257\n",
      "Billing Zip/Postal Code                     0.003300\n",
      "Stage_Closed Won                            0.001590\n",
      "Fiscal Period_Q4-2019                       0.000560\n",
      "Account Type_Corporate                      0.000023\n",
      "Account Type_Household                     -0.000023\n",
      "Stage_Awarded                              -0.000116\n",
      "Fiscal Period_Q2-2018                      -0.000292\n",
      "Fiscal Period_Q1-2020                      -0.000379\n",
      "Fiscal Period_Q2-2015                      -0.000594\n",
      "Fiscal Period_Q2-2023                      -0.000847\n",
      "Fiscal Period_Q3-2022                      -0.001086\n",
      "Fiscal Period_Q1-2022                      -0.001367\n",
      "Fiscal Period_Q1-2015                      -0.001415\n",
      "Fiscal Period_Q1-2014                      -0.001779\n",
      "Fiscal Period_Q4-2022                      -0.001779\n",
      "Maked Primary Campaign_Campaign Two 2023   -0.001810\n",
      "Fiscal Period_Q1-2023                      -0.001870\n",
      "Fiscal Period_Q2-2014                      -0.002201\n",
      "Fiscal Period_Q2-2016                      -0.002361\n",
      "Fiscal Period_Q1-2017                      -0.002422\n",
      "Fiscal Period_Q3-2014                      -0.002482\n",
      "Fiscal Period_Q1-2016                      -0.002659\n",
      "Fiscal Period_Q4-2018                      -0.002814\n",
      "Fiscal Period_Q3-2015                      -0.003114\n",
      "Fiscal Period_Q3-2016                      -0.003199\n",
      "Fiscal Period_Q2-2022                      -0.003707\n",
      "Maked Primary Campaign_Campaign Two 2022   -0.004181\n",
      "Fiscal Period_Q3-2021                      -0.004298\n",
      "Fiscal Period_Q1-2021                      -0.004419\n",
      "Fiscal Period_Q3-2020                      -0.004676\n",
      "Fiscal Period_Q2-2017                      -0.004832\n",
      "Maked Primary Campaign_Campaign Two 2020   -0.005326\n",
      "Fiscal Period_Q4-2021                      -0.005456\n",
      "Maked Primary Campaign_Campaign Two 2021   -0.005777\n",
      "Stage_In-Kind Received                     -0.006116\n",
      "Fiscal Period_Q3-2017                      -0.006123\n",
      "Fiscal Period_Q4-2020                      -0.006167\n",
      "Fiscal Period_Q3-2018                      -0.006453\n",
      "Maked Primary Campaign_Campaign Two 2019   -0.006867\n",
      "Fiscal Period_Q4-2017                      -0.007017\n",
      "Maked Primary Campaign_Campaign Two 2018   -0.008175\n",
      "Maked Primary Campaign_Campaign Two 2017   -0.008264\n",
      "Fiscal Period_Q4-2014                      -0.010802\n",
      "Fiscal Period_Q4-2015                      -0.011203\n",
      "Maked Primary Campaign_Campaign One 2016   -0.011204\n",
      "Fiscal Period_Q4-2016                      -0.011331\n",
      "Maked Primary Campaign_Campaign One 2015   -0.011474\n",
      "Maked Primary Campaign_Campaign One 2014   -0.011628\n",
      "Close Month                                -0.024624\n",
      "Name: Amount, dtype: float64\n"
     ]
    }
   ],
   "source": [
    "features = ['Maked Primary Campaign', 'Stage', 'Account Type', 'Billing Zip/Postal Code', 'Fiscal Period', 'Close Date']\n",
    "label = df['Amount']\n",
    "\n",
    "df_features = df[features].copy()\n",
    "df_features['Amount'] = label\n",
    "\n",
    "df_encoded = pd.get_dummies(df_features, columns=['Maked Primary Campaign', 'Stage', 'Account Type', 'Fiscal Period'])\n",
    "\n",
    "df_encoded['Close Date'] = pd.to_datetime(df_encoded['Close Date'])\n",
    "df_encoded['Close Year'] = df_encoded['Close Date'].dt.year\n",
    "df_encoded['Close Month'] = df_encoded['Close Date'].dt.month\n",
    "df_encoded = df_encoded.drop(columns=['Close Date'])\n",
    "\n",
    "df_encoded['Billing Zip/Postal Code'] = pd.to_numeric(df_encoded['Billing Zip/Postal Code'], errors='coerce')\n",
    "\n",
    "df_encoded = df_encoded.dropna()\n",
    "\n",
    "correlation_matrix = df_encoded.corr()\n",
    "\n",
    "correlation_with_amount = correlation_matrix['Amount'].sort_values(ascending=False)\n",
    "\n",
    "print(correlation_with_amount)"
   ]
  }
 ],
 "metadata": {
  "kernelspec": {
   "display_name": "predBorrowers",
   "language": "python",
   "name": "myenv"
  },
  "language_info": {
   "codemirror_mode": {
    "name": "ipython",
    "version": 3
   },
   "file_extension": ".py",
   "mimetype": "text/x-python",
   "name": "python",
   "nbconvert_exporter": "python",
   "pygments_lexer": "ipython3",
   "version": "3.12.4"
  }
 },
 "nbformat": 4,
 "nbformat_minor": 2
}
